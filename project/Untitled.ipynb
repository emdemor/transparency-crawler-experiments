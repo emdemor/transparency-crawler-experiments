{
 "cells": [
  {
   "cell_type": "code",
   "execution_count": 2,
   "id": "3b550063-10cb-44eb-b5dd-0edecd63d02e",
   "metadata": {
    "execution": {
     "iopub.execute_input": "2025-04-15T02:43:47.164264Z",
     "iopub.status.busy": "2025-04-15T02:43:47.163691Z",
     "iopub.status.idle": "2025-04-15T02:44:53.228349Z",
     "shell.execute_reply": "2025-04-15T02:44:53.227731Z",
     "shell.execute_reply.started": "2025-04-15T02:43:47.164225Z"
    }
   },
   "outputs": [
    {
     "name": "stdout",
     "output_type": "stream",
     "text": [
      "Defaulting to user installation because normal site-packages is not writeable\n",
      "Collecting h5py\n",
      "  Downloading h5py-3.13.0-cp312-cp312-manylinux_2_17_x86_64.manylinux2014_x86_64.whl.metadata (2.5 kB)\n",
      "Requirement already satisfied: numpy>=1.19.3 in /usr/local/lib/python3.12/site-packages (from h5py) (2.2.3)\n",
      "Downloading h5py-3.13.0-cp312-cp312-manylinux_2_17_x86_64.manylinux2014_x86_64.whl (4.9 MB)\n",
      "\u001b[2K   \u001b[90m━━━━━━━━━━━━━━━━━━━━━━━━━━━━━━━━━━━━━━━━\u001b[0m \u001b[32m4.9/4.9 MB\u001b[0m \u001b[31m99.5 kB/s\u001b[0m eta \u001b[36m0:00:00\u001b[0m00:01\u001b[0m00:02\u001b[0mm\n",
      "Installing collected packages: h5py\n",
      "Successfully installed h5py-3.13.0\n",
      "\n",
      "\u001b[1m[\u001b[0m\u001b[34;49mnotice\u001b[0m\u001b[1;39;49m]\u001b[0m\u001b[39;49m A new release of pip is available: \u001b[0m\u001b[31;49m24.0\u001b[0m\u001b[39;49m -> \u001b[0m\u001b[32;49m25.0.1\u001b[0m\n",
      "\u001b[1m[\u001b[0m\u001b[34;49mnotice\u001b[0m\u001b[1;39;49m]\u001b[0m\u001b[39;49m To update, run: \u001b[0m\u001b[32;49mpip install --upgrade pip\u001b[0m\n"
     ]
    }
   ],
   "source": [
    "!pip install h5py"
   ]
  },
  {
   "cell_type": "code",
   "execution_count": 5,
   "id": "941f35f7-4c4d-486d-b052-19f0f51beb58",
   "metadata": {
    "execution": {
     "iopub.execute_input": "2025-04-15T02:46:15.356682Z",
     "iopub.status.busy": "2025-04-15T02:46:15.356380Z",
     "iopub.status.idle": "2025-04-15T02:46:53.232864Z",
     "shell.execute_reply": "2025-04-15T02:46:53.232185Z",
     "shell.execute_reply.started": "2025-04-15T02:46:15.356657Z"
    }
   },
   "outputs": [
    {
     "name": "stdout",
     "output_type": "stream",
     "text": [
      "Defaulting to user installation because normal site-packages is not writeable\n",
      "Collecting scipy\n",
      "  Downloading scipy-1.15.2-cp312-cp312-manylinux_2_17_x86_64.manylinux2014_x86_64.whl.metadata (61 kB)\n",
      "\u001b[2K     \u001b[90m━━━━━━━━━━━━━━━━━━━━━━━━━━━━━━━━━━━━━━━\u001b[0m \u001b[32m62.0/62.0 kB\u001b[0m \u001b[31m694.2 kB/s\u001b[0m eta \u001b[36m0:00:00\u001b[0m0:01\u001b[0m00:01\u001b[0m\n",
      "\u001b[?25hRequirement already satisfied: numpy<2.5,>=1.23.5 in /usr/local/lib/python3.12/site-packages (from scipy) (2.2.3)\n",
      "Downloading scipy-1.15.2-cp312-cp312-manylinux_2_17_x86_64.manylinux2014_x86_64.whl (37.3 MB)\n",
      "\u001b[2K   \u001b[90m━━━━━━━━━━━━━━━━━━━━━━━━━━━━━━━━━━━━━━━━\u001b[0m \u001b[32m37.3/37.3 MB\u001b[0m \u001b[31m1.4 MB/s\u001b[0m eta \u001b[36m0:00:00\u001b[0m00:01\u001b[0m00:01\u001b[0m\n",
      "Installing collected packages: scipy\n",
      "Successfully installed scipy-1.15.2\n",
      "\n",
      "\u001b[1m[\u001b[0m\u001b[34;49mnotice\u001b[0m\u001b[1;39;49m]\u001b[0m\u001b[39;49m A new release of pip is available: \u001b[0m\u001b[31;49m24.0\u001b[0m\u001b[39;49m -> \u001b[0m\u001b[32;49m25.0.1\u001b[0m\n",
      "\u001b[1m[\u001b[0m\u001b[34;49mnotice\u001b[0m\u001b[1;39;49m]\u001b[0m\u001b[39;49m To update, run: \u001b[0m\u001b[32;49mpip install --upgrade pip\u001b[0m\n"
     ]
    }
   ],
   "source": [
    "!pip install scipy"
   ]
  },
  {
   "cell_type": "code",
   "execution_count": 38,
   "id": "16e6575e-0e17-4c16-89db-7241009382e3",
   "metadata": {
    "execution": {
     "iopub.execute_input": "2025-04-15T03:01:14.240985Z",
     "iopub.status.busy": "2025-04-15T03:01:14.240336Z",
     "iopub.status.idle": "2025-04-15T03:01:20.286131Z",
     "shell.execute_reply": "2025-04-15T03:01:20.285829Z",
     "shell.execute_reply.started": "2025-04-15T03:01:14.240948Z"
    }
   },
   "outputs": [
    {
     "name": "stdout",
     "output_type": "stream",
     "text": [
      "Conversão concluída com sucesso!\n",
      "Conversão concluída com sucesso!\n"
     ]
    }
   ],
   "source": [
    "import scipy.io\n",
    "import numpy as np\n",
    "\n",
    "import h5py\n",
    "\n",
    "\n",
    "# http://ufldl.stanford.edu/housenumbers/\n",
    "\n",
    "\n",
    "\n",
    "def process_numbers(filename: str):\n",
    "\n",
    "    data = scipy.io.loadmat(f'{filename}.mat')\n",
    "    images = data['X']  # Formato original: (32, 32, 3, N)\n",
    "    labels = data['y']  # Geralmente no formato (N, 1)\n",
    "    \n",
    "    # Converte o formato para (N, 32, 32, 3)\n",
    "    images = np.transpose(images, (3, 0, 1, 2))  # Reordena os eixos\n",
    "    \n",
    "    \n",
    "    # Supondo que 'images' seja o array com formato (N, 32, 32, 3)\n",
    "    # Usando a função np.dot para aplicar a transformação para escala de cinza\n",
    "    weights = np.array([0.2989, 0.5870, 0.1140])\n",
    "    \n",
    "    # A função np.dot é aplicada em cada pixel; garantindo que a última dimensão seja reduzida\n",
    "    images = np.dot(images, weights)\n",
    "    \n",
    "    images = (images - images.min()) / (images.max() - images.min()) * 255\n",
    "    images = images.astype(np.uint8)\n",
    "    \n",
    "    with h5py.File(f'{filename}.h5', 'w') as hf:\n",
    "        hf.create_dataset('X', data=images, compression=\"gzip\", compression_opts=9)\n",
    "        hf.create_dataset('y', data=labels, compression=\"gzip\", compression_opts=9)\n",
    "    \n",
    "    \n",
    "    print(\"Conversão concluída com sucesso!\")\n",
    "\n",
    "\n",
    "for filename in [\"train_32x32\", \"test_32x32\"]:\n",
    "    process_numbers(filename)"
   ]
  },
  {
   "cell_type": "code",
   "execution_count": 29,
   "id": "0cdbf866-3dc0-48bb-bae2-123ef73f49e9",
   "metadata": {
    "execution": {
     "iopub.execute_input": "2025-04-15T02:53:28.078612Z",
     "iopub.status.busy": "2025-04-15T02:53:28.078275Z",
     "iopub.status.idle": "2025-04-15T02:53:28.081337Z",
     "shell.execute_reply": "2025-04-15T02:53:28.081042Z",
     "shell.execute_reply.started": "2025-04-15T02:53:28.078586Z"
    }
   },
   "outputs": [
    {
     "data": {
      "text/plain": [
       "(26032, 32, 32)"
      ]
     },
     "execution_count": 29,
     "metadata": {},
     "output_type": "execute_result"
    }
   ],
   "source": [
    "images.shape"
   ]
  },
  {
   "cell_type": "code",
   "execution_count": 13,
   "id": "15ad73f3-93e1-4d87-8aed-c1cba228a086",
   "metadata": {
    "execution": {
     "iopub.execute_input": "2025-04-15T02:50:47.443971Z",
     "iopub.status.busy": "2025-04-15T02:50:47.443386Z",
     "iopub.status.idle": "2025-04-15T02:50:47.446407Z",
     "shell.execute_reply": "2025-04-15T02:50:47.446105Z",
     "shell.execute_reply.started": "2025-04-15T02:50:47.443938Z"
    }
   },
   "outputs": [
    {
     "data": {
      "text/plain": [
       "(32, 32, 3)"
      ]
     },
     "execution_count": 13,
     "metadata": {},
     "output_type": "execute_result"
    }
   ],
   "source": [
    "images[0].shape"
   ]
  },
  {
   "cell_type": "code",
   "execution_count": 44,
   "id": "7188f2b8-4949-458a-85fe-a0bb85dc9056",
   "metadata": {
    "execution": {
     "iopub.execute_input": "2025-04-15T03:04:02.935961Z",
     "iopub.status.busy": "2025-04-15T03:04:02.935425Z",
     "iopub.status.idle": "2025-04-15T03:04:02.938940Z",
     "shell.execute_reply": "2025-04-15T03:04:02.938063Z",
     "shell.execute_reply.started": "2025-04-15T03:04:02.935918Z"
    }
   },
   "outputs": [],
   "source": [
    "from PIL import Image\n",
    "import matplotlib.pyplot as plt"
   ]
  },
  {
   "cell_type": "code",
   "execution_count": 196,
   "id": "df53c5b0-8b37-4a33-8d9f-af389399dca4",
   "metadata": {
    "execution": {
     "iopub.execute_input": "2025-04-15T03:25:43.360825Z",
     "iopub.status.busy": "2025-04-15T03:25:43.360463Z",
     "iopub.status.idle": "2025-04-15T03:25:43.364190Z",
     "shell.execute_reply": "2025-04-15T03:25:43.363859Z",
     "shell.execute_reply.started": "2025-04-15T03:25:43.360793Z"
    }
   },
   "outputs": [
    {
     "data": {
      "text/plain": [
       "(32, 32)"
      ]
     },
     "execution_count": 196,
     "metadata": {},
     "output_type": "execute_result"
    }
   ],
   "source": [
    "images[3010].shape"
   ]
  },
  {
   "cell_type": "code",
   "execution_count": 249,
   "id": "062c77ac-c5e3-4625-aa87-5ae6bd7ae20a",
   "metadata": {
    "execution": {
     "iopub.execute_input": "2025-04-15T03:46:26.552023Z",
     "iopub.status.busy": "2025-04-15T03:46:26.551680Z",
     "iopub.status.idle": "2025-04-15T03:46:26.581904Z",
     "shell.execute_reply": "2025-04-15T03:46:26.581379Z",
     "shell.execute_reply.started": "2025-04-15T03:46:26.551995Z"
    }
   },
   "outputs": [
    {
     "ename": "AttributeError",
     "evalue": "'numpy.ndarray' object has no attribute 'read'",
     "output_type": "error",
     "traceback": [
      "\u001b[0;31m---------------------------------------------------------------------------\u001b[0m",
      "\u001b[0;31mAttributeError\u001b[0m                            Traceback (most recent call last)",
      "File \u001b[0;32m/usr/local/lib/python3.12/site-packages/PIL/Image.py:3471\u001b[0m, in \u001b[0;36mopen\u001b[0;34m(fp, mode, formats)\u001b[0m\n\u001b[1;32m   3470\u001b[0m \u001b[38;5;28;01mtry\u001b[39;00m:\n\u001b[0;32m-> 3471\u001b[0m     \u001b[43mfp\u001b[49m\u001b[38;5;241;43m.\u001b[39;49m\u001b[43mseek\u001b[49m(\u001b[38;5;241m0\u001b[39m)\n\u001b[1;32m   3472\u001b[0m \u001b[38;5;28;01mexcept\u001b[39;00m (\u001b[38;5;167;01mAttributeError\u001b[39;00m, io\u001b[38;5;241m.\u001b[39mUnsupportedOperation):\n",
      "\u001b[0;31mAttributeError\u001b[0m: 'numpy.ndarray' object has no attribute 'seek'",
      "\nDuring handling of the above exception, another exception occurred:\n",
      "\u001b[0;31mAttributeError\u001b[0m                            Traceback (most recent call last)",
      "Cell \u001b[0;32mIn[249], line 1\u001b[0m\n\u001b[0;32m----> 1\u001b[0m \u001b[43mImage\u001b[49m\u001b[38;5;241;43m.\u001b[39;49m\u001b[43mopen\u001b[49m\u001b[43m(\u001b[49m\u001b[43mimages\u001b[49m\u001b[43m[\u001b[49m\u001b[43mindex\u001b[49m\u001b[43m]\u001b[49m\u001b[43m)\u001b[49m\n",
      "File \u001b[0;32m/usr/local/lib/python3.12/site-packages/PIL/Image.py:3473\u001b[0m, in \u001b[0;36mopen\u001b[0;34m(fp, mode, formats)\u001b[0m\n\u001b[1;32m   3471\u001b[0m     fp\u001b[38;5;241m.\u001b[39mseek(\u001b[38;5;241m0\u001b[39m)\n\u001b[1;32m   3472\u001b[0m \u001b[38;5;28;01mexcept\u001b[39;00m (\u001b[38;5;167;01mAttributeError\u001b[39;00m, io\u001b[38;5;241m.\u001b[39mUnsupportedOperation):\n\u001b[0;32m-> 3473\u001b[0m     fp \u001b[38;5;241m=\u001b[39m io\u001b[38;5;241m.\u001b[39mBytesIO(\u001b[43mfp\u001b[49m\u001b[38;5;241;43m.\u001b[39;49m\u001b[43mread\u001b[49m())\n\u001b[1;32m   3474\u001b[0m     exclusive_fp \u001b[38;5;241m=\u001b[39m \u001b[38;5;28;01mTrue\u001b[39;00m\n\u001b[1;32m   3476\u001b[0m prefix \u001b[38;5;241m=\u001b[39m fp\u001b[38;5;241m.\u001b[39mread(\u001b[38;5;241m16\u001b[39m)\n",
      "\u001b[0;31mAttributeError\u001b[0m: 'numpy.ndarray' object has no attribute 'read'"
     ]
    }
   ],
   "source": [
    "Image.open(images[index])"
   ]
  },
  {
   "cell_type": "code",
   "execution_count": 246,
   "id": "fc553140-3e20-4a5f-a52f-87d652c255e4",
   "metadata": {
    "execution": {
     "iopub.execute_input": "2025-04-15T03:45:44.986692Z",
     "iopub.status.busy": "2025-04-15T03:45:44.986208Z",
     "iopub.status.idle": "2025-04-15T03:45:44.998318Z",
     "shell.execute_reply": "2025-04-15T03:45:44.997346Z",
     "shell.execute_reply.started": "2025-04-15T03:45:44.986664Z"
    }
   },
   "outputs": [
    {
     "ename": "ValueError",
     "evalue": "cannot resize this array: it does not own its data",
     "output_type": "error",
     "traceback": [
      "\u001b[0;31m---------------------------------------------------------------------------\u001b[0m",
      "\u001b[0;31mValueError\u001b[0m                                Traceback (most recent call last)",
      "Cell \u001b[0;32mIn[246], line 12\u001b[0m\n\u001b[1;32m      9\u001b[0m index \u001b[38;5;241m=\u001b[39m \u001b[38;5;241m3010\u001b[39m\n\u001b[1;32m     10\u001b[0m number \u001b[38;5;241m=\u001b[39m \u001b[38;5;241m0\u001b[39m\n\u001b[0;32m---> 12\u001b[0m plt\u001b[38;5;241m.\u001b[39mimsave(\u001b[38;5;124mf\u001b[39m\u001b[38;5;124m\"\u001b[39m\u001b[38;5;132;01m{\u001b[39;00mnumber\u001b[38;5;132;01m}\u001b[39;00m\u001b[38;5;124m.jpg\u001b[39m\u001b[38;5;124m\"\u001b[39m, \u001b[43mimages\u001b[49m\u001b[43m[\u001b[49m\u001b[43mindex\u001b[49m\u001b[43m]\u001b[49m\u001b[38;5;241;43m.\u001b[39;49m\u001b[43mresize\u001b[49m\u001b[43m(\u001b[49m\u001b[43m(\u001b[49m\u001b[38;5;241;43m28\u001b[39;49m\u001b[43m,\u001b[49m\u001b[43m \u001b[49m\u001b[38;5;241;43m28\u001b[39;49m\u001b[43m)\u001b[49m\u001b[43m)\u001b[49m, cmap\u001b[38;5;241m=\u001b[39m\u001b[38;5;124m\"\u001b[39m\u001b[38;5;124mgray\u001b[39m\u001b[38;5;124m\"\u001b[39m)\n\u001b[1;32m     15\u001b[0m imagem \u001b[38;5;241m=\u001b[39m np\u001b[38;5;241m.\u001b[39marray(Image\u001b[38;5;241m.\u001b[39mopen(\u001b[38;5;124mf\u001b[39m\u001b[38;5;124m'\u001b[39m\u001b[38;5;132;01m{\u001b[39;00mnumber\u001b[38;5;132;01m}\u001b[39;00m\u001b[38;5;124m.jpg\u001b[39m\u001b[38;5;124m'\u001b[39m))\n\u001b[1;32m     16\u001b[0m \u001b[38;5;28mprint\u001b[39m(imagem\u001b[38;5;241m.\u001b[39mshape)\n",
      "\u001b[0;31mValueError\u001b[0m: cannot resize this array: it does not own its data"
     ]
    }
   ],
   "source": [
    "import matplotlib.pyplot as plt\n",
    "import urllib\n",
    "\n",
    "from PIL import Image\n",
    "import matplotlib.pyplot as plt\n",
    "import numpy as np\n",
    "\n",
    "\n",
    "index = 3010\n",
    "number = 0\n",
    "\n",
    "plt.imsave(f\"{number}.jpg\", images[index].resize((28, 28)), cmap=\"gray\")\n",
    "\n",
    "\n",
    "imagem = np.array(Image.open(f'{number}.jpg'))\n",
    "print(imagem.shape)\n",
    "plt.imshow(imagem)\n",
    "plt.axis('off')\n",
    "plt.show()"
   ]
  },
  {
   "cell_type": "code",
   "execution_count": 233,
   "id": "9b910474-c917-40ed-bbff-b013e5ade1ee",
   "metadata": {
    "execution": {
     "iopub.execute_input": "2025-04-15T03:44:06.281325Z",
     "iopub.status.busy": "2025-04-15T03:44:06.280996Z",
     "iopub.status.idle": "2025-04-15T03:44:06.299132Z",
     "shell.execute_reply": "2025-04-15T03:44:06.298711Z",
     "shell.execute_reply.started": "2025-04-15T03:44:06.281298Z"
    }
   },
   "outputs": [
    {
     "name": "stdout",
     "output_type": "stream",
     "text": [
      "(28, 28, 3)\n"
     ]
    },
    {
     "data": {
      "image/png": "[encoded data removed]",
      "text/plain": [
       "<Figure size 640x480 with 1 Axes>"
      ]
     },
     "metadata": {},
     "output_type": "display_data"
    }
   ],
   "source": [
    "index = 85\n",
    "number = 1\n",
    "\n",
    "plt.imsave(f\"{number}.jpg\", images[index], cmap=\"gray\")\n",
    "imagem = np.array(Image.open(f'{number}.jpg').resize((28, 28)))\n",
    "print(imagem.shape)\n",
    "plt.imshow(imagem)\n",
    "plt.axis('off')\n",
    "plt.show()"
   ]
  },
  {
   "cell_type": "code",
   "execution_count": 234,
   "id": "395699f4-0409-47d3-8a7c-2a7b73c989ef",
   "metadata": {
    "execution": {
     "iopub.execute_input": "2025-04-15T03:44:08.685940Z",
     "iopub.status.busy": "2025-04-15T03:44:08.685478Z",
     "iopub.status.idle": "2025-04-15T03:44:08.703304Z",
     "shell.execute_reply": "2025-04-15T03:44:08.702753Z",
     "shell.execute_reply.started": "2025-04-15T03:44:08.685906Z"
    }
   },
   "outputs": [
    {
     "name": "stdout",
     "output_type": "stream",
     "text": [
      "(28, 28, 3)\n"
     ]
    },
    {
     "data": {
      "image/png": "[encoded data removed]",
      "text/plain": [
       "<Figure size 640x480 with 1 Axes>"
      ]
     },
     "metadata": {},
     "output_type": "display_data"
    }
   ],
   "source": [
    "index = 128\n",
    "number = 2\n",
    "\n",
    "plt.imsave(f\"{number}.jpg\", images[index], cmap=\"gray\")\n",
    "imagem = np.array(Image.open(f'{number}.jpg').resize((28, 28)))\n",
    "print(imagem.shape)\n",
    "plt.imshow(imagem)\n",
    "plt.axis('off')\n",
    "plt.show()"
   ]
  },
  {
   "cell_type": "code",
   "execution_count": 235,
   "id": "29fbb432-a17a-4bc9-9bf8-496c8c58d999",
   "metadata": {
    "execution": {
     "iopub.execute_input": "2025-04-15T03:44:10.615255Z",
     "iopub.status.busy": "2025-04-15T03:44:10.614935Z",
     "iopub.status.idle": "2025-04-15T03:44:10.639023Z",
     "shell.execute_reply": "2025-04-15T03:44:10.638298Z",
     "shell.execute_reply.started": "2025-04-15T03:44:10.615230Z"
    }
   },
   "outputs": [
    {
     "name": "stdout",
     "output_type": "stream",
     "text": [
      "(28, 28, 3)\n"
     ]
    },
    {
     "data": {
      "image/png": "[encoded data removed]",
      "text/plain": [
       "<Figure size 640x480 with 1 Axes>"
      ]
     },
     "metadata": {},
     "output_type": "display_data"
    }
   ],
   "source": [
    "index = 18\n",
    "number = 3\n",
    "\n",
    "plt.imsave(f\"{number}.jpg\", images[index], cmap=\"gray\")\n",
    "imagem = np.array(Image.open(f'{number}.jpg').resize((28, 28)))\n",
    "print(imagem.shape)\n",
    "plt.imshow(imagem)\n",
    "plt.axis('off')\n",
    "plt.show()"
   ]
  },
  {
   "cell_type": "code",
   "execution_count": 236,
   "id": "c6cfb3be-ee30-4873-be22-ea400a174e86",
   "metadata": {
    "execution": {
     "iopub.execute_input": "2025-04-15T03:44:12.686512Z",
     "iopub.status.busy": "2025-04-15T03:44:12.685983Z",
     "iopub.status.idle": "2025-04-15T03:44:12.703582Z",
     "shell.execute_reply": "2025-04-15T03:44:12.703113Z",
     "shell.execute_reply.started": "2025-04-15T03:44:12.686482Z"
    }
   },
   "outputs": [
    {
     "name": "stdout",
     "output_type": "stream",
     "text": [
      "(28, 28, 3)\n"
     ]
    },
    {
     "data": {
      "image/png": "[encoded data removed]",
      "text/plain": [
       "<Figure size 640x480 with 1 Axes>"
      ]
     },
     "metadata": {},
     "output_type": "display_data"
    }
   ],
   "source": [
    "index = 26\n",
    "number = 4\n",
    "\n",
    "plt.imsave(f\"{number}.jpg\", images[index], cmap=\"gray\")\n",
    "imagem = np.array(Image.open(f'{number}.jpg').resize((28, 28)))\n",
    "print(imagem.shape)\n",
    "plt.imshow(imagem)\n",
    "plt.axis('off')\n",
    "plt.show()"
   ]
  },
  {
   "cell_type": "code",
   "execution_count": 237,
   "id": "bc3fca0b-df72-40c0-b9f2-a832143f1047",
   "metadata": {
    "execution": {
     "iopub.execute_input": "2025-04-15T03:44:14.920128Z",
     "iopub.status.busy": "2025-04-15T03:44:14.919854Z",
     "iopub.status.idle": "2025-04-15T03:44:14.939656Z",
     "shell.execute_reply": "2025-04-15T03:44:14.939140Z",
     "shell.execute_reply.started": "2025-04-15T03:44:14.920106Z"
    }
   },
   "outputs": [
    {
     "name": "stdout",
     "output_type": "stream",
     "text": [
      "(28, 28, 3)\n"
     ]
    },
    {
     "data": {
      "image/png": "[encoded data removed]",
      "text/plain": [
       "<Figure size 640x480 with 1 Axes>"
      ]
     },
     "metadata": {},
     "output_type": "display_data"
    }
   ],
   "source": [
    "index = 0\n",
    "number = 5\n",
    "\n",
    "plt.imsave(f\"{number}.jpg\", images[index], cmap=\"gray\")\n",
    "imagem = np.array(Image.open(f'{number}.jpg').resize((28, 28)))\n",
    "print(imagem.shape)\n",
    "plt.imshow(imagem)\n",
    "plt.axis('off')\n",
    "plt.show()"
   ]
  },
  {
   "cell_type": "code",
   "execution_count": 238,
   "id": "f097f3b9-3ab6-4569-b5a9-6de6ac5d437b",
   "metadata": {
    "execution": {
     "iopub.execute_input": "2025-04-15T03:44:17.033367Z",
     "iopub.status.busy": "2025-04-15T03:44:17.033060Z",
     "iopub.status.idle": "2025-04-15T03:44:17.052511Z",
     "shell.execute_reply": "2025-04-15T03:44:17.052113Z",
     "shell.execute_reply.started": "2025-04-15T03:44:17.033347Z"
    }
   },
   "outputs": [
    {
     "name": "stdout",
     "output_type": "stream",
     "text": [
      "(28, 28, 3)\n"
     ]
    },
    {
     "data": {
      "image/png": "[encoded data removed]",
      "text/plain": [
       "<Figure size 640x480 with 1 Axes>"
      ]
     },
     "metadata": {},
     "output_type": "display_data"
    }
   ],
   "source": [
    "index = 109\n",
    "number = 6\n",
    "\n",
    "plt.imsave(f\"{number}.jpg\", images[index], cmap=\"gray\")\n",
    "imagem = np.array(Image.open(f'{number}.jpg').resize((28, 28)))\n",
    "print(imagem.shape)\n",
    "plt.imshow(imagem)\n",
    "plt.axis('off')\n",
    "plt.show()"
   ]
  },
  {
   "cell_type": "code",
   "execution_count": 239,
   "id": "214fffc7-123d-453e-a47f-b53d08bcc194",
   "metadata": {
    "execution": {
     "iopub.execute_input": "2025-04-15T03:44:18.896485Z",
     "iopub.status.busy": "2025-04-15T03:44:18.896261Z",
     "iopub.status.idle": "2025-04-15T03:44:18.913584Z",
     "shell.execute_reply": "2025-04-15T03:44:18.913291Z",
     "shell.execute_reply.started": "2025-04-15T03:44:18.896470Z"
    }
   },
   "outputs": [
    {
     "name": "stdout",
     "output_type": "stream",
     "text": [
      "(28, 28, 3)\n"
     ]
    },
    {
     "data": {
      "image/png": "[encoded data removed]",
      "text/plain": [
       "<Figure size 640x480 with 1 Axes>"
      ]
     },
     "metadata": {},
     "output_type": "display_data"
    }
   ],
   "source": [
    "index = 179\n",
    "number = 7\n",
    "\n",
    "plt.imsave(f\"{number}.jpg\", images[index], cmap=\"gray\")\n",
    "imagem = np.array(Image.open(f'{number}.jpg').resize((28, 28)))\n",
    "print(imagem.shape)\n",
    "plt.imshow(imagem)\n",
    "plt.axis('off')\n",
    "plt.show()"
   ]
  },
  {
   "cell_type": "code",
   "execution_count": 240,
   "id": "a3bf7d32-5cad-4fcd-9740-945476fd1192",
   "metadata": {
    "execution": {
     "iopub.execute_input": "2025-04-15T03:44:20.705709Z",
     "iopub.status.busy": "2025-04-15T03:44:20.705335Z",
     "iopub.status.idle": "2025-04-15T03:44:20.726917Z",
     "shell.execute_reply": "2025-04-15T03:44:20.726324Z",
     "shell.execute_reply.started": "2025-04-15T03:44:20.705679Z"
    }
   },
   "outputs": [
    {
     "name": "stdout",
     "output_type": "stream",
     "text": [
      "(28, 28, 3)\n"
     ]
    },
    {
     "data": {
      "image/png": "[encoded data removed]",
      "text/plain": [
       "<Figure size 640x480 with 1 Axes>"
      ]
     },
     "metadata": {},
     "output_type": "display_data"
    }
   ],
   "source": [
    "index = 185\n",
    "number = 8\n",
    "\n",
    "plt.imsave(f\"{number}.jpg\", images[index], cmap=\"gray\")\n",
    "imagem = np.array(Image.open(f'{number}.jpg').resize((28, 28)))\n",
    "print(imagem.shape)\n",
    "plt.imshow(imagem)\n",
    "plt.axis('off')\n",
    "plt.show()"
   ]
  },
  {
   "cell_type": "code",
   "execution_count": 241,
   "id": "4b0a5c36-7f0f-4410-bed0-efbfa0939857",
   "metadata": {
    "execution": {
     "iopub.execute_input": "2025-04-15T03:44:22.657133Z",
     "iopub.status.busy": "2025-04-15T03:44:22.656854Z",
     "iopub.status.idle": "2025-04-15T03:44:22.679080Z",
     "shell.execute_reply": "2025-04-15T03:44:22.678612Z",
     "shell.execute_reply.started": "2025-04-15T03:44:22.657112Z"
    }
   },
   "outputs": [
    {
     "name": "stdout",
     "output_type": "stream",
     "text": [
      "(28, 28, 3)\n"
     ]
    },
    {
     "data": {
      "image/png": "[encoded data removed]",
      "text/plain": [
       "<Figure size 640x480 with 1 Axes>"
      ]
     },
     "metadata": {},
     "output_type": "display_data"
    }
   ],
   "source": [
    "index = 3002\n",
    "number = 9\n",
    "\n",
    "plt.imsave(f\"{number}.jpg\", images[index], cmap=\"gray\")\n",
    "imagem = np.array(Image.open(f'{number}.jpg').resize((28, 28)))\n",
    "print(imagem.shape)\n",
    "plt.imshow(imagem)\n",
    "plt.axis('off')\n",
    "plt.show()"
   ]
  },
  {
   "cell_type": "code",
   "execution_count": 242,
   "id": "c2ad419b-88b5-46fa-a0a9-68a8172562ae",
   "metadata": {
    "execution": {
     "iopub.execute_input": "2025-04-15T03:44:26.246592Z",
     "iopub.status.busy": "2025-04-15T03:44:26.246317Z",
     "iopub.status.idle": "2025-04-15T03:44:26.272418Z",
     "shell.execute_reply": "2025-04-15T03:44:26.271709Z",
     "shell.execute_reply.started": "2025-04-15T03:44:26.246571Z"
    }
   },
   "outputs": [
    {
     "name": "stdout",
     "output_type": "stream",
     "text": [
      "(32, 32, 3)\n"
     ]
    },
    {
     "data": {
      "image/png": "[encoded data removed]",
      "text/plain": [
       "<Figure size 640x480 with 1 Axes>"
      ]
     },
     "metadata": {},
     "output_type": "display_data"
    }
   ],
   "source": [
    "import urllib\n",
    "\n",
    "from PIL import Image\n",
    "import matplotlib.pyplot as plt\n",
    "import numpy as np\n",
    "\n",
    "\n",
    "imagem = np.array(Image.open('0.jpg'))\n",
    "\n",
    "print(imagem.shape)\n",
    "\n",
    "weights = np.array([0.2989, 0.5870, 0.1140])\n",
    "    \n",
    "imagem = np.dot(imagem, weights)\n",
    "imagem = np.expand_dims(imagem, axis=-1) \n",
    "\n",
    "plt.imshow(imagem, cmap=\"gray\")\n",
    "\n",
    "plt.axis('off')\n",
    "plt.show()"
   ]
  },
  {
   "cell_type": "code",
   "execution_count": 229,
   "id": "689d3eb4-8109-454a-b86a-8e13633fdb94",
   "metadata": {
    "execution": {
     "iopub.execute_input": "2025-04-15T03:43:05.035105Z",
     "iopub.status.busy": "2025-04-15T03:43:05.034649Z",
     "iopub.status.idle": "2025-04-15T03:43:05.037926Z",
     "shell.execute_reply": "2025-04-15T03:43:05.037513Z",
     "shell.execute_reply.started": "2025-04-15T03:43:05.035078Z"
    }
   },
   "outputs": [
    {
     "data": {
      "text/plain": [
       "(32, 32, 1)"
      ]
     },
     "execution_count": 229,
     "metadata": {},
     "output_type": "execute_result"
    }
   ],
   "source": [
    "imagem.shape"
   ]
  },
  {
   "cell_type": "markdown",
   "id": "9ee2835f-3f20-456f-9417-07023eda2e7f",
   "metadata": {},
   "source": [
    "Tentei rodar esse código em python:\n",
    "```\n",
    "import h5py\n",
    "import numpy as np\n",
    "\n",
    "with h5py.File('test_32x32.mat', 'r') as f:\n",
    "    images = np.array(f['X'])  # Formato: (32, 32, 3, N)\n",
    "    labels = np.array(f['y'])  # Formato: (N, 1)\n",
    "\n",
    "```\n",
    "\n",
    "mas recebi esse erro:\n",
    "```\n",
    "---------------------------------------------------------------------------\n",
    "OSError                                   Traceback (most recent call last)\n",
    "Cell In[3], line 4\n",
    "      1 import h5py\n",
    "      2 import numpy as np\n",
    "----> 4 with h5py.File('test_32x32.mat', 'r') as f:\n",
    "      5     images = np.array(f['X'])  # Formato: (32, 32, 3, N)\n",
    "      6     labels = np.array(f['y'])  # Formato: (N, 1)\n",
    "\n",
    "File ~/.local/lib/python3.12/site-packages/h5py/_hl/files.py:564, in File.__init__(self, name, mode, driver, libver, userblock_size, swmr, rdcc_nslots, rdcc_nbytes, rdcc_w0, track_order, fs_strategy, fs_persist, fs_threshold, fs_page_size, page_buf_size, min_meta_keep, min_raw_keep, locking, alignment_threshold, alignment_interval, meta_block_size, **kwds)\n",
    "    555     fapl = make_fapl(driver, libver, rdcc_nslots, rdcc_nbytes, rdcc_w0,\n",
    "    556                      locking, page_buf_size, min_meta_keep, min_raw_keep,\n",
    "    557                      alignment_threshold=alignment_threshold,\n",
    "    558                      alignment_interval=alignment_interval,\n",
    "    559                      meta_block_size=meta_block_size,\n",
    "    560                      **kwds)\n",
    "    561     fcpl = make_fcpl(track_order=track_order, fs_strategy=fs_strategy,\n",
    "    562                      fs_persist=fs_persist, fs_threshold=fs_threshold,\n",
    "    563                      fs_page_size=fs_page_size)\n",
    "--> 564     fid = make_fid(name, mode, userblock_size, fapl, fcpl, swmr=swmr)\n",
    "    566 if isinstance(libver, tuple):\n",
    "    567     self._libver = libver\n",
    "\n",
    "File ~/.local/lib/python3.12/site-packages/h5py/_hl/files.py:238, in make_fid(name, mode, userblock_size, fapl, fcpl, swmr)\n",
    "    236     if swmr and swmr_support:\n",
    "    237         flags |= h5f.ACC_SWMR_READ\n",
    "--> 238     fid = h5f.open(name, flags, fapl=fapl)\n",
    "    239 elif mode == 'r+':\n",
    "    240     fid = h5f.open(name, h5f.ACC_RDWR, fapl=fapl)\n",
    "\n",
    "File h5py/_objects.pyx:54, in h5py._objects.with_phil.wrapper()\n",
    "\n",
    "File h5py/_objects.pyx:55, in h5py._objects.with_phil.wrapper()\n",
    "\n",
    "File h5py/h5f.pyx:102, in h5py.h5f.open()\n",
    "\n",
    "OSError: Unable to synchronously open file (file signature not found)\n",
    "```"
   ]
  },
  {
   "cell_type": "code",
   "execution_count": null,
   "id": "cdabc86e-4b95-44f9-ba6f-a6f397e9b6de",
   "metadata": {},
   "outputs": [],
   "source": []
  },
  {
   "cell_type": "code",
   "execution_count": null,
   "id": "a65b4d9f-1200-4d0f-aff2-30785d2a2506",
   "metadata": {},
   "outputs": [],
   "source": []
  },
  {
   "cell_type": "code",
   "execution_count": null,
   "id": "117f5920-d0c3-465f-a969-9ac0c4da339d",
   "metadata": {},
   "outputs": [],
   "source": []
  },
  {
   "cell_type": "code",
   "execution_count": null,
   "id": "4ce8733e-b248-482c-86fb-dd06ab9dca0c",
   "metadata": {},
   "outputs": [],
   "source": []
  },
  {
   "cell_type": "code",
   "execution_count": null,
   "id": "ff674bbe-6e64-447d-8f3a-177527581a5a",
   "metadata": {},
   "outputs": [],
   "source": []
  },
  {
   "cell_type": "code",
   "execution_count": null,
   "id": "adf9ebd5-7b55-47fb-92ed-60fec17b52c8",
   "metadata": {},
   "outputs": [],
   "source": []
  },
  {
   "cell_type": "code",
   "execution_count": null,
   "id": "82e88338-cdb2-4cde-bf7a-1e3b13667a19",
   "metadata": {},
   "outputs": [],
   "source": []
  }
 ],
 "metadata": {
  "kernelspec": {
   "display_name": "Python 3 (ipykernel)",
   "language": "python",
   "name": "python3"
  },
  "language_info": {
   "codemirror_mode": {
    "name": "ipython",
    "version": 3
   },
   "file_extension": ".py",
   "mimetype": "text/x-python",
   "name": "python",
   "nbconvert_exporter": "python",
   "pygments_lexer": "ipython3",
   "version": "3.12.2"
  }
 },
 "nbformat": 4,
 "nbformat_minor": 5
}
